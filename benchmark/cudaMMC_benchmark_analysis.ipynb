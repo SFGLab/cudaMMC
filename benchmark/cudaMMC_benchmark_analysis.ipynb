{
 "cells": [
  {
   "cell_type": "markdown",
   "metadata": {},
   "source": [
    "# Benchmark Analysis between 3D-GNOME and cudaMMC\n",
    "\n",
    "Comparison of two methods:\n",
    "\n",
    "- **3D-GNOME (Latest Version)**: [3D-GNOME Bitbucket Repository](https://bitbucket.org/3dome/3dgnome)\n",
    "- **cudaMMC**: This is a GPU-enhanced extension of 3D-GNOME. [cudaMMC GitHub Repository](https://github.com/SFGLab/cudaMMC)\n"
   ]
  },
  {
   "cell_type": "code",
   "execution_count": 1,
   "metadata": {},
   "outputs": [],
   "source": [
    "import os\n",
    "import statistics\n",
    "\n",
    "import matplotlib.pyplot as plt\n",
    "import matplotlib.patches as mpatches\n",
    "import numpy as np\n",
    "import pandas as pd\n",
    "import seaborn as sns"
   ]
  },
  {
   "cell_type": "code",
   "execution_count": null,
   "metadata": {},
   "outputs": [],
   "source": []
  },
  {
   "cell_type": "code",
   "execution_count": 2,
   "metadata": {},
   "outputs": [],
   "source": [
    "def take_times_from_files_calc_average_time(list_of_filenames):\n",
    "    \"\"\"\n",
    "    Extracts processing times from a list of files and calculates average time and \n",
    "    coefficient of variation per chromosome.\n",
    "\n",
    "    This function assumes each file in the list contains a processing time on its first line \n",
    "    and is named in a way that the chromosome name can be extracted from the filename.\n",
    "    For example, for a filename \"/path/to/chromosomeX_data.txt\", \"chromosomeX\" will be \n",
    "    the extracted chromosome name.\n",
    "\n",
    "    Parameters:\n",
    "    - list_of_filenames (list of str): A list of file paths to be processed.\n",
    "\n",
    "    Returns:\n",
    "    - results_average (dict): A dictionary where keys are chromosome names and values \n",
    "      are the average processing times for each chromosome.\n",
    "    - results_coefficient_of_variation (dict): A dictionary where keys are chromosome \n",
    "      names and values are the coefficient of variation (standard deviation/mean) \n",
    "      of the processing times for each chromosome.\n",
    "\n",
    "    Note:\n",
    "    The coefficient of variation is a measure of relative variability. It is useful for \n",
    "    comparing the degree of variation from one data series to another, even if the means \n",
    "    are drastically different from one another.\n",
    "    \"\"\"\n",
    "\n",
    "    results = {}\n",
    "    results_average = {}\n",
    "    results_coefficient_of_variation = {}\n",
    "    \n",
    "    for i in list_of_filenames:\n",
    "        with open(i, 'r') as f:\n",
    "            t=float(f.readline())\n",
    "            chrom_name = i.split('/')[-1].split('_')[0]\n",
    "            if chrom_name in results.keys():\n",
    "                results[chrom_name].append(t)\n",
    "            else:\n",
    "                results[chrom_name]=[t]    \n",
    "    \n",
    "    for key, value in results.items():\n",
    "        mean_of_chrom = statistics.mean(results[key])\n",
    "        st_dev_of_chrom = statistics.stdev(results[key])\n",
    "        \n",
    "        results_average[key] = mean_of_chrom\n",
    "        results_coefficient_of_variation[key] = st_dev_of_chrom/mean_of_chrom\n",
    "        \n",
    "    return results_average, results_coefficient_of_variation\n"
   ]
  },
  {
   "cell_type": "code",
   "execution_count": null,
   "metadata": {},
   "outputs": [],
   "source": []
  },
  {
   "cell_type": "code",
   "execution_count": 3,
   "metadata": {},
   "outputs": [],
   "source": [
    "def convert_results_to_pandas(results_average, results_average_coef_var, method_name):\n",
    "    \"\"\"\n",
    "    Converts provided results dictionaries into a single Pandas DataFrame.\n",
    "\n",
    "    This function takes in two dictionaries containing average results and \n",
    "    coefficients of variation and transforms them into two Pandas DataFrames. \n",
    "    It then merges the two DataFrames into one based on the chromosome index \n",
    "    and returns the merged DataFrame.\n",
    "\n",
    "    Parameters:\n",
    "    - results_average (dict): A dictionary where keys are chromosome names \n",
    "      (or indices) and values are the average processing times for each chromosome.\n",
    "    - results_average_coef_var (dict): A dictionary where keys are chromosome names \n",
    "      (or indices) and values are the coefficient of variation of the processing \n",
    "      times for each chromosome.\n",
    "    - method_name (str): A string representing the name of the method/technique \n",
    "      being used. This is used to label the columns in the resulting DataFrame.\n",
    "\n",
    "    Returns:\n",
    "    - merged_data (DataFrame): A DataFrame containing two columns: \n",
    "      one for the average results and one for the coefficients of variation, \n",
    "      both indexed by chromosome.\n",
    "\n",
    "    Note:\n",
    "    This function assumes that the keys in the provided dictionaries (chromosome names) \n",
    "    are numeric or can be converted to numeric for sorting purposes. The resulting \n",
    "    DataFrame will have chromosomes sorted in numeric order.\n",
    "    \"\"\"\n",
    "\n",
    "    pd_results_average = pd.DataFrame(results_average, index=[0]).transpose()\n",
    "    pd_results_average = pd_results_average.reset_index()\n",
    "    pd_results_average['index'] = pd.to_numeric(pd_results_average['index'])\n",
    "    pd_results_average = pd_results_average.sort_values('index').set_index('index')\n",
    "    pd_results_average.columns = [method_name]\n",
    "    \n",
    "    pd_results_average_coef_var = pd.DataFrame(results_average_coef_var, index=[0]).transpose()\n",
    "    pd_results_average_coef_var = pd_results_average_coef_var.reset_index()\n",
    "    pd_results_average_coef_var['index'] = pd.to_numeric(pd_results_average_coef_var['index'])\n",
    "    pd_results_average_coef_var = pd_results_average_coef_var.sort_values('index').set_index('index')\n",
    "    pd_results_average_coef_var.columns = [f'{method_name}_coef_var']\n",
    "    \n",
    "    merged_data = pd.merge(pd_results_average, pd_results_average_coef_var, left_on='index', right_on='index')\n",
    "    return merged_data\n"
   ]
  },
  {
   "cell_type": "code",
   "execution_count": null,
   "metadata": {},
   "outputs": [],
   "source": []
  },
  {
   "cell_type": "markdown",
   "metadata": {},
   "source": [
    "## Benchmark Setup Steps\n",
    "\n",
    "1. **Installation**: Install 3dnome and cudaMMC from the repositories.\n",
    "2. **Run the Script**: Execute the `benchmark_modelling_methods.py` script. This script can be found in the `cudaMMC` repository under the `benchmark` directory. After running this, you can use your results for further benchmarking analysis.\n"
   ]
  },
  {
   "cell_type": "markdown",
   "metadata": {},
   "source": [
    "## Time Performance Analysis\n",
    "\n",
    "Initially, we will assess both the time performance and the Coefficient of Variation of the algorithm's time performance across chromosomes. This analysis utilizes smaller datasets derived from the `hg19` long-read CTCF ChIA-PET experiment. The examination encompasses all autosomal chromosomes.\n"
   ]
  },
  {
   "cell_type": "code",
   "execution_count": 4,
   "metadata": {},
   "outputs": [],
   "source": [
    "#set your dir with results:"
   ]
  },
  {
   "cell_type": "code",
   "execution_count": 5,
   "metadata": {},
   "outputs": [
    {
     "name": "stdout",
     "output_type": "stream",
     "text": [
      "/home/michal/Projects/cudaMMC_calculations/tests/tests_results\n"
     ]
    }
   ],
   "source": [
    "cd tests/tests_results/"
   ]
  },
  {
   "cell_type": "code",
   "execution_count": 6,
   "metadata": {},
   "outputs": [],
   "source": [
    "paths_3dnome_logs = 'logs/3dnome/3dnome_logs_single_runs/'\n",
    "paths_cudaMMC_logs = 'logs/cudaMMC/cudaMMC_logs_single_runs/'\n",
    "path_to_chrom_sizes = \"data/hg19/human_hg19_chrom_sizes.txt\" #find in benchmark dir"
   ]
  },
  {
   "cell_type": "code",
   "execution_count": 7,
   "metadata": {},
   "outputs": [],
   "source": [
    "files_time_cpu = [os.path.join(paths_3dnome_logs, fname) for fname in os.listdir(paths_3dnome_logs) if fname.endswith('txt')]\n",
    "files_time_gpu = [os.path.join(paths_cudaMMC_logs, fname) for fname in os.listdir(paths_cudaMMC_logs) if fname.endswith('txt')]\n"
   ]
  },
  {
   "cell_type": "code",
   "execution_count": 8,
   "metadata": {},
   "outputs": [],
   "source": [
    "results_gpu, results_gpu_coef_var = take_times_from_files_calc_average_time(files_time_gpu)\n",
    "results_cpu, results_cpu_coef_var = take_times_from_files_calc_average_time(files_time_cpu)"
   ]
  },
  {
   "cell_type": "code",
   "execution_count": 9,
   "metadata": {},
   "outputs": [],
   "source": [
    "pd_results_gpu = convert_results_to_pandas(results_gpu,results_gpu_coef_var, 'gpu_times')\n",
    "pd_results_cpu = convert_results_to_pandas(results_cpu,results_cpu_coef_var, 'cpu_times')"
   ]
  },
  {
   "cell_type": "code",
   "execution_count": 10,
   "metadata": {},
   "outputs": [],
   "source": [
    "merged_pd_results = pd.merge(pd_results_cpu, pd_results_gpu, left_on=pd_results_cpu.index, right_on=pd_results_gpu.index).rename(columns={'key_0':\"chr_id\"})"
   ]
  },
  {
   "cell_type": "code",
   "execution_count": 11,
   "metadata": {},
   "outputs": [],
   "source": [
    "speed_up = []\n",
    "for index, row in merged_pd_results.iterrows():\n",
    "    speed_up.append(row['cpu_times']/row['gpu_times']*100)\n",
    "\n",
    "merged_pd_results['speed_up'] = speed_up\n",
    "chr_names = [f'chr{i}' for i in list(merged_pd_results['chr_id'])]\n",
    "merged_pd_results['chr_names'] = chr_names\n",
    "chrom_sizes = pd.read_csv(path_to_chrom_sizes,sep='\\t', header=None)\n",
    "chrom_sizes.columns = ['chr_names', 'chrom_size']"
   ]
  },
  {
   "cell_type": "code",
   "execution_count": null,
   "metadata": {},
   "outputs": [],
   "source": []
  },
  {
   "cell_type": "code",
   "execution_count": 12,
   "metadata": {},
   "outputs": [],
   "source": [
    "merged_pd_results['cpu_times_min'] = (merged_pd_results['cpu_times']/60).round(2)\n",
    "merged_pd_results['gpu_times_min'] = (merged_pd_results['gpu_times']/60).round(2)"
   ]
  },
  {
   "cell_type": "code",
   "execution_count": null,
   "metadata": {},
   "outputs": [],
   "source": []
  },
  {
   "cell_type": "code",
   "execution_count": 13,
   "metadata": {},
   "outputs": [
    {
     "data": {
      "text/html": [
       "<div>\n",
       "<style scoped>\n",
       "    .dataframe tbody tr th:only-of-type {\n",
       "        vertical-align: middle;\n",
       "    }\n",
       "\n",
       "    .dataframe tbody tr th {\n",
       "        vertical-align: top;\n",
       "    }\n",
       "\n",
       "    .dataframe thead th {\n",
       "        text-align: right;\n",
       "    }\n",
       "</style>\n",
       "<table border=\"1\" class=\"dataframe\">\n",
       "  <thead>\n",
       "    <tr style=\"text-align: right;\">\n",
       "      <th></th>\n",
       "      <th>chr_id</th>\n",
       "      <th>cpu_times</th>\n",
       "      <th>cpu_times_coef_var</th>\n",
       "      <th>gpu_times</th>\n",
       "      <th>gpu_times_coef_var</th>\n",
       "      <th>speed_up</th>\n",
       "      <th>chr_names</th>\n",
       "      <th>cpu_times_min</th>\n",
       "      <th>gpu_times_min</th>\n",
       "      <th>chrom_size</th>\n",
       "      <th>chr_size_small</th>\n",
       "    </tr>\n",
       "  </thead>\n",
       "  <tbody>\n",
       "    <tr>\n",
       "      <th>20</th>\n",
       "      <td>21</td>\n",
       "      <td>70.285068</td>\n",
       "      <td>0.064486</td>\n",
       "      <td>20.127466</td>\n",
       "      <td>0.020129</td>\n",
       "      <td>349.199789</td>\n",
       "      <td>chr21</td>\n",
       "      <td>1.17</td>\n",
       "      <td>0.34</td>\n",
       "      <td>48129895</td>\n",
       "      <td>48.129895</td>\n",
       "    </tr>\n",
       "    <tr>\n",
       "      <th>21</th>\n",
       "      <td>22</td>\n",
       "      <td>172.469018</td>\n",
       "      <td>0.060234</td>\n",
       "      <td>26.141358</td>\n",
       "      <td>0.028638</td>\n",
       "      <td>659.755388</td>\n",
       "      <td>chr22</td>\n",
       "      <td>2.87</td>\n",
       "      <td>0.44</td>\n",
       "      <td>51304566</td>\n",
       "      <td>51.304566</td>\n",
       "    </tr>\n",
       "    <tr>\n",
       "      <th>18</th>\n",
       "      <td>19</td>\n",
       "      <td>360.093128</td>\n",
       "      <td>0.158354</td>\n",
       "      <td>37.500894</td>\n",
       "      <td>0.019712</td>\n",
       "      <td>960.225451</td>\n",
       "      <td>chr19</td>\n",
       "      <td>6.00</td>\n",
       "      <td>0.63</td>\n",
       "      <td>59128983</td>\n",
       "      <td>59.128983</td>\n",
       "    </tr>\n",
       "    <tr>\n",
       "      <th>19</th>\n",
       "      <td>20</td>\n",
       "      <td>253.664935</td>\n",
       "      <td>0.056100</td>\n",
       "      <td>31.955694</td>\n",
       "      <td>0.011885</td>\n",
       "      <td>793.801988</td>\n",
       "      <td>chr20</td>\n",
       "      <td>4.23</td>\n",
       "      <td>0.53</td>\n",
       "      <td>63025520</td>\n",
       "      <td>63.025520</td>\n",
       "    </tr>\n",
       "    <tr>\n",
       "      <th>17</th>\n",
       "      <td>18</td>\n",
       "      <td>201.681090</td>\n",
       "      <td>0.150578</td>\n",
       "      <td>31.185421</td>\n",
       "      <td>0.014987</td>\n",
       "      <td>646.715946</td>\n",
       "      <td>chr18</td>\n",
       "      <td>3.36</td>\n",
       "      <td>0.52</td>\n",
       "      <td>78077248</td>\n",
       "      <td>78.077248</td>\n",
       "    </tr>\n",
       "  </tbody>\n",
       "</table>\n",
       "</div>"
      ],
      "text/plain": [
       "    chr_id   cpu_times  cpu_times_coef_var  gpu_times  gpu_times_coef_var  \\\n",
       "20      21   70.285068            0.064486  20.127466            0.020129   \n",
       "21      22  172.469018            0.060234  26.141358            0.028638   \n",
       "18      19  360.093128            0.158354  37.500894            0.019712   \n",
       "19      20  253.664935            0.056100  31.955694            0.011885   \n",
       "17      18  201.681090            0.150578  31.185421            0.014987   \n",
       "\n",
       "      speed_up chr_names  cpu_times_min  gpu_times_min  chrom_size  \\\n",
       "20  349.199789     chr21           1.17           0.34    48129895   \n",
       "21  659.755388     chr22           2.87           0.44    51304566   \n",
       "18  960.225451     chr19           6.00           0.63    59128983   \n",
       "19  793.801988     chr20           4.23           0.53    63025520   \n",
       "17  646.715946     chr18           3.36           0.52    78077248   \n",
       "\n",
       "    chr_size_small  \n",
       "20       48.129895  \n",
       "21       51.304566  \n",
       "18       59.128983  \n",
       "19       63.025520  \n",
       "17       78.077248  "
      ]
     },
     "execution_count": 13,
     "metadata": {},
     "output_type": "execute_result"
    }
   ],
   "source": [
    "merged_pd_results_chrom_sizes = pd.merge(merged_pd_results, chrom_sizes, how='left', on='chr_names')\n",
    "merged_pd_results_chrom_sizes = merged_pd_results_chrom_sizes.sort_values(by='chrom_size')\n",
    "chr_size_small = [i/1000000 for i in list(merged_pd_results_chrom_sizes['chrom_size'])]\n",
    "merged_pd_results_chrom_sizes['chr_size_small']=chr_size_small\n",
    "merged_pd_results_chrom_sizes = merged_pd_results_chrom_sizes.sort_values(by='chr_size_small')\n",
    "merged_pd_results_chrom_sizes.head()"
   ]
  },
  {
   "cell_type": "code",
   "execution_count": 14,
   "metadata": {},
   "outputs": [
    {
     "data": {
      "text/plain": [
       "<Figure size 432x288 with 0 Axes>"
      ]
     },
     "metadata": {},
     "output_type": "display_data"
    },
    {
     "data": {
      "image/png": "[encoded data removed]",
      "text/plain": [
       "<Figure size 432x288 with 1 Axes>"
      ]
     },
     "metadata": {},
     "output_type": "display_data"
    }
   ],
   "source": [
    "plt.clf()\n",
    "plt.rcParams.update({'font.size': 18})\n",
    "merged_pd_results_chrom_sizes.plot.scatter(x = 'chr_size_small', y = 'speed_up', title = \"Increase in performance with \\n respect to the chromosome size\", c = 'red', xlabel=\"chromosome size in bp.\", ylabel=\"speed up in %\", grid=True)#, s = 'chrom_size');  \n",
    "plt.xlabel('chromosome size in Mbp.')\n",
    "plt.ylabel('speed up in %')\n",
    "plt.figsize = (2.36,1.57)\n",
    "# plt.savefig(\"figures/performance_hg19_speed_up_300dpi_after.png\", format='png',dpi=300,bbox_inches='tight',pad_inches=0.1)\n",
    "plt.show()"
   ]
  },
  {
   "cell_type": "code",
   "execution_count": 15,
   "metadata": {},
   "outputs": [
    {
     "data": {
      "text/plain": [
       "<Figure size 432x288 with 0 Axes>"
      ]
     },
     "metadata": {},
     "output_type": "display_data"
    },
    {
     "data": {
      "image/png": "[encoded data removed]",
      "text/plain": [
       "<Figure size 432x288 with 1 Axes>"
      ]
     },
     "metadata": {},
     "output_type": "display_data"
    }
   ],
   "source": [
    "plt.clf()\n",
    "plt.figsize = (2.36,1.57)\n",
    "plt.rcParams.update({'font.size': 18})\n",
    "plt.tight_layout()\n",
    "ax=merged_pd_results_chrom_sizes.plot(x = 'chr_size_small', y = 'cpu_times_coef_var', kind='scatter', title = \"Coefficient of variation for \\n algorithm time performance\", c = 'blue')\n",
    "merged_pd_results_chrom_sizes.plot(x = 'chr_size_small', y = 'gpu_times_coef_var', kind='scatter',ax=ax, c = 'green')\n",
    "\n",
    "plt.xlabel('chromosome size in Mbp.')\n",
    "plt.ylabel('Coefficient of variation')\n",
    "plt.legend([\"3D-GNOME\", \"cudaMMC\"], loc='upper left', frameon=True, fontsize=11)\n",
    "plt.grid()\n",
    "\n",
    "# plt.savefig(\"figures/coef_var.png\",dpi=300,bbox_inches='tight',pad_inches=0.1)\n",
    "plt.show()"
   ]
  },
  {
   "cell_type": "code",
   "execution_count": 16,
   "metadata": {},
   "outputs": [
    {
     "data": {
      "text/html": [
       "<div>\n",
       "<style scoped>\n",
       "    .dataframe tbody tr th:only-of-type {\n",
       "        vertical-align: middle;\n",
       "    }\n",
       "\n",
       "    .dataframe tbody tr th {\n",
       "        vertical-align: top;\n",
       "    }\n",
       "\n",
       "    .dataframe thead th {\n",
       "        text-align: right;\n",
       "    }\n",
       "</style>\n",
       "<table border=\"1\" class=\"dataframe\">\n",
       "  <thead>\n",
       "    <tr style=\"text-align: right;\">\n",
       "      <th></th>\n",
       "      <th>chr_id</th>\n",
       "      <th>cpu_times</th>\n",
       "      <th>cpu_times_coef_var</th>\n",
       "      <th>gpu_times</th>\n",
       "      <th>gpu_times_coef_var</th>\n",
       "      <th>speed_up</th>\n",
       "      <th>chr_names</th>\n",
       "      <th>cpu_times_min</th>\n",
       "      <th>gpu_times_min</th>\n",
       "      <th>chrom_size</th>\n",
       "      <th>chr_size_small</th>\n",
       "    </tr>\n",
       "  </thead>\n",
       "  <tbody>\n",
       "    <tr>\n",
       "      <th>20</th>\n",
       "      <td>21</td>\n",
       "      <td>70.285068</td>\n",
       "      <td>0.064486</td>\n",
       "      <td>20.127466</td>\n",
       "      <td>0.020129</td>\n",
       "      <td>349.199789</td>\n",
       "      <td>chr21</td>\n",
       "      <td>1.17</td>\n",
       "      <td>0.34</td>\n",
       "      <td>48129895</td>\n",
       "      <td>48.129895</td>\n",
       "    </tr>\n",
       "    <tr>\n",
       "      <th>21</th>\n",
       "      <td>22</td>\n",
       "      <td>172.469018</td>\n",
       "      <td>0.060234</td>\n",
       "      <td>26.141358</td>\n",
       "      <td>0.028638</td>\n",
       "      <td>659.755388</td>\n",
       "      <td>chr22</td>\n",
       "      <td>2.87</td>\n",
       "      <td>0.44</td>\n",
       "      <td>51304566</td>\n",
       "      <td>51.304566</td>\n",
       "    </tr>\n",
       "    <tr>\n",
       "      <th>18</th>\n",
       "      <td>19</td>\n",
       "      <td>360.093128</td>\n",
       "      <td>0.158354</td>\n",
       "      <td>37.500894</td>\n",
       "      <td>0.019712</td>\n",
       "      <td>960.225451</td>\n",
       "      <td>chr19</td>\n",
       "      <td>6.00</td>\n",
       "      <td>0.63</td>\n",
       "      <td>59128983</td>\n",
       "      <td>59.128983</td>\n",
       "    </tr>\n",
       "    <tr>\n",
       "      <th>19</th>\n",
       "      <td>20</td>\n",
       "      <td>253.664935</td>\n",
       "      <td>0.056100</td>\n",
       "      <td>31.955694</td>\n",
       "      <td>0.011885</td>\n",
       "      <td>793.801988</td>\n",
       "      <td>chr20</td>\n",
       "      <td>4.23</td>\n",
       "      <td>0.53</td>\n",
       "      <td>63025520</td>\n",
       "      <td>63.025520</td>\n",
       "    </tr>\n",
       "    <tr>\n",
       "      <th>17</th>\n",
       "      <td>18</td>\n",
       "      <td>201.681090</td>\n",
       "      <td>0.150578</td>\n",
       "      <td>31.185421</td>\n",
       "      <td>0.014987</td>\n",
       "      <td>646.715946</td>\n",
       "      <td>chr18</td>\n",
       "      <td>3.36</td>\n",
       "      <td>0.52</td>\n",
       "      <td>78077248</td>\n",
       "      <td>78.077248</td>\n",
       "    </tr>\n",
       "    <tr>\n",
       "      <th>16</th>\n",
       "      <td>17</td>\n",
       "      <td>645.013491</td>\n",
       "      <td>0.204972</td>\n",
       "      <td>46.746135</td>\n",
       "      <td>0.012088</td>\n",
       "      <td>1379.822083</td>\n",
       "      <td>chr17</td>\n",
       "      <td>10.75</td>\n",
       "      <td>0.78</td>\n",
       "      <td>81195210</td>\n",
       "      <td>81.195210</td>\n",
       "    </tr>\n",
       "    <tr>\n",
       "      <th>15</th>\n",
       "      <td>16</td>\n",
       "      <td>360.820090</td>\n",
       "      <td>0.156666</td>\n",
       "      <td>38.419104</td>\n",
       "      <td>0.026036</td>\n",
       "      <td>939.168423</td>\n",
       "      <td>chr16</td>\n",
       "      <td>6.01</td>\n",
       "      <td>0.64</td>\n",
       "      <td>90354753</td>\n",
       "      <td>90.354753</td>\n",
       "    </tr>\n",
       "    <tr>\n",
       "      <th>14</th>\n",
       "      <td>15</td>\n",
       "      <td>447.699067</td>\n",
       "      <td>0.262184</td>\n",
       "      <td>39.821931</td>\n",
       "      <td>0.022703</td>\n",
       "      <td>1124.252524</td>\n",
       "      <td>chr15</td>\n",
       "      <td>7.46</td>\n",
       "      <td>0.66</td>\n",
       "      <td>102531392</td>\n",
       "      <td>102.531392</td>\n",
       "    </tr>\n",
       "    <tr>\n",
       "      <th>13</th>\n",
       "      <td>14</td>\n",
       "      <td>376.040273</td>\n",
       "      <td>0.197917</td>\n",
       "      <td>39.416648</td>\n",
       "      <td>0.012373</td>\n",
       "      <td>954.013838</td>\n",
       "      <td>chr14</td>\n",
       "      <td>6.27</td>\n",
       "      <td>0.66</td>\n",
       "      <td>107349540</td>\n",
       "      <td>107.349540</td>\n",
       "    </tr>\n",
       "    <tr>\n",
       "      <th>12</th>\n",
       "      <td>13</td>\n",
       "      <td>284.690888</td>\n",
       "      <td>0.193448</td>\n",
       "      <td>35.200097</td>\n",
       "      <td>0.014523</td>\n",
       "      <td>808.778702</td>\n",
       "      <td>chr13</td>\n",
       "      <td>4.74</td>\n",
       "      <td>0.59</td>\n",
       "      <td>115169878</td>\n",
       "      <td>115.169878</td>\n",
       "    </tr>\n",
       "    <tr>\n",
       "      <th>11</th>\n",
       "      <td>12</td>\n",
       "      <td>908.004200</td>\n",
       "      <td>0.222802</td>\n",
       "      <td>62.625701</td>\n",
       "      <td>0.009319</td>\n",
       "      <td>1449.890670</td>\n",
       "      <td>chr12</td>\n",
       "      <td>15.13</td>\n",
       "      <td>1.04</td>\n",
       "      <td>133851895</td>\n",
       "      <td>133.851895</td>\n",
       "    </tr>\n",
       "    <tr>\n",
       "      <th>10</th>\n",
       "      <td>11</td>\n",
       "      <td>793.615437</td>\n",
       "      <td>0.135030</td>\n",
       "      <td>59.065907</td>\n",
       "      <td>0.020870</td>\n",
       "      <td>1343.610014</td>\n",
       "      <td>chr11</td>\n",
       "      <td>13.23</td>\n",
       "      <td>0.98</td>\n",
       "      <td>135006516</td>\n",
       "      <td>135.006516</td>\n",
       "    </tr>\n",
       "    <tr>\n",
       "      <th>9</th>\n",
       "      <td>10</td>\n",
       "      <td>879.360636</td>\n",
       "      <td>0.307746</td>\n",
       "      <td>55.700513</td>\n",
       "      <td>0.012450</td>\n",
       "      <td>1578.729871</td>\n",
       "      <td>chr10</td>\n",
       "      <td>14.66</td>\n",
       "      <td>0.93</td>\n",
       "      <td>135534747</td>\n",
       "      <td>135.534747</td>\n",
       "    </tr>\n",
       "    <tr>\n",
       "      <th>8</th>\n",
       "      <td>9</td>\n",
       "      <td>687.860546</td>\n",
       "      <td>0.177817</td>\n",
       "      <td>47.334234</td>\n",
       "      <td>0.018216</td>\n",
       "      <td>1453.198847</td>\n",
       "      <td>chr9</td>\n",
       "      <td>11.46</td>\n",
       "      <td>0.79</td>\n",
       "      <td>141213431</td>\n",
       "      <td>141.213431</td>\n",
       "    </tr>\n",
       "    <tr>\n",
       "      <th>7</th>\n",
       "      <td>8</td>\n",
       "      <td>959.809771</td>\n",
       "      <td>0.303346</td>\n",
       "      <td>57.892031</td>\n",
       "      <td>0.010233</td>\n",
       "      <td>1657.930728</td>\n",
       "      <td>chr8</td>\n",
       "      <td>16.00</td>\n",
       "      <td>0.96</td>\n",
       "      <td>146364022</td>\n",
       "      <td>146.364022</td>\n",
       "    </tr>\n",
       "    <tr>\n",
       "      <th>6</th>\n",
       "      <td>7</td>\n",
       "      <td>1378.689172</td>\n",
       "      <td>0.218858</td>\n",
       "      <td>67.104362</td>\n",
       "      <td>0.009304</td>\n",
       "      <td>2054.544780</td>\n",
       "      <td>chr7</td>\n",
       "      <td>22.98</td>\n",
       "      <td>1.12</td>\n",
       "      <td>159138663</td>\n",
       "      <td>159.138663</td>\n",
       "    </tr>\n",
       "    <tr>\n",
       "      <th>5</th>\n",
       "      <td>6</td>\n",
       "      <td>1484.739043</td>\n",
       "      <td>0.198121</td>\n",
       "      <td>71.188253</td>\n",
       "      <td>0.014205</td>\n",
       "      <td>2085.651759</td>\n",
       "      <td>chr6</td>\n",
       "      <td>24.75</td>\n",
       "      <td>1.19</td>\n",
       "      <td>171115067</td>\n",
       "      <td>171.115067</td>\n",
       "    </tr>\n",
       "    <tr>\n",
       "      <th>4</th>\n",
       "      <td>5</td>\n",
       "      <td>1240.353191</td>\n",
       "      <td>0.196953</td>\n",
       "      <td>69.882913</td>\n",
       "      <td>0.014597</td>\n",
       "      <td>1774.901947</td>\n",
       "      <td>chr5</td>\n",
       "      <td>20.67</td>\n",
       "      <td>1.16</td>\n",
       "      <td>180915260</td>\n",
       "      <td>180.915260</td>\n",
       "    </tr>\n",
       "    <tr>\n",
       "      <th>3</th>\n",
       "      <td>4</td>\n",
       "      <td>991.479077</td>\n",
       "      <td>0.158512</td>\n",
       "      <td>63.346802</td>\n",
       "      <td>0.014535</td>\n",
       "      <td>1565.160427</td>\n",
       "      <td>chr4</td>\n",
       "      <td>16.52</td>\n",
       "      <td>1.06</td>\n",
       "      <td>191154276</td>\n",
       "      <td>191.154276</td>\n",
       "    </tr>\n",
       "    <tr>\n",
       "      <th>2</th>\n",
       "      <td>3</td>\n",
       "      <td>1852.707086</td>\n",
       "      <td>0.232386</td>\n",
       "      <td>89.749938</td>\n",
       "      <td>0.008868</td>\n",
       "      <td>2064.299018</td>\n",
       "      <td>chr3</td>\n",
       "      <td>30.88</td>\n",
       "      <td>1.50</td>\n",
       "      <td>198022430</td>\n",
       "      <td>198.022430</td>\n",
       "    </tr>\n",
       "    <tr>\n",
       "      <th>1</th>\n",
       "      <td>2</td>\n",
       "      <td>2610.348072</td>\n",
       "      <td>0.193399</td>\n",
       "      <td>100.831950</td>\n",
       "      <td>0.016436</td>\n",
       "      <td>2588.810459</td>\n",
       "      <td>chr2</td>\n",
       "      <td>43.51</td>\n",
       "      <td>1.68</td>\n",
       "      <td>243199373</td>\n",
       "      <td>243.199373</td>\n",
       "    </tr>\n",
       "    <tr>\n",
       "      <th>0</th>\n",
       "      <td>1</td>\n",
       "      <td>2990.523901</td>\n",
       "      <td>0.320497</td>\n",
       "      <td>115.472510</td>\n",
       "      <td>0.024763</td>\n",
       "      <td>2589.814577</td>\n",
       "      <td>chr1</td>\n",
       "      <td>49.84</td>\n",
       "      <td>1.92</td>\n",
       "      <td>249250621</td>\n",
       "      <td>249.250621</td>\n",
       "    </tr>\n",
       "  </tbody>\n",
       "</table>\n",
       "</div>"
      ],
      "text/plain": [
       "    chr_id    cpu_times  cpu_times_coef_var   gpu_times  gpu_times_coef_var  \\\n",
       "20      21    70.285068            0.064486   20.127466            0.020129   \n",
       "21      22   172.469018            0.060234   26.141358            0.028638   \n",
       "18      19   360.093128            0.158354   37.500894            0.019712   \n",
       "19      20   253.664935            0.056100   31.955694            0.011885   \n",
       "17      18   201.681090            0.150578   31.185421            0.014987   \n",
       "16      17   645.013491            0.204972   46.746135            0.012088   \n",
       "15      16   360.820090            0.156666   38.419104            0.026036   \n",
       "14      15   447.699067            0.262184   39.821931            0.022703   \n",
       "13      14   376.040273            0.197917   39.416648            0.012373   \n",
       "12      13   284.690888            0.193448   35.200097            0.014523   \n",
       "11      12   908.004200            0.222802   62.625701            0.009319   \n",
       "10      11   793.615437            0.135030   59.065907            0.020870   \n",
       "9       10   879.360636            0.307746   55.700513            0.012450   \n",
       "8        9   687.860546            0.177817   47.334234            0.018216   \n",
       "7        8   959.809771            0.303346   57.892031            0.010233   \n",
       "6        7  1378.689172            0.218858   67.104362            0.009304   \n",
       "5        6  1484.739043            0.198121   71.188253            0.014205   \n",
       "4        5  1240.353191            0.196953   69.882913            0.014597   \n",
       "3        4   991.479077            0.158512   63.346802            0.014535   \n",
       "2        3  1852.707086            0.232386   89.749938            0.008868   \n",
       "1        2  2610.348072            0.193399  100.831950            0.016436   \n",
       "0        1  2990.523901            0.320497  115.472510            0.024763   \n",
       "\n",
       "       speed_up chr_names  cpu_times_min  gpu_times_min  chrom_size  \\\n",
       "20   349.199789     chr21           1.17           0.34    48129895   \n",
       "21   659.755388     chr22           2.87           0.44    51304566   \n",
       "18   960.225451     chr19           6.00           0.63    59128983   \n",
       "19   793.801988     chr20           4.23           0.53    63025520   \n",
       "17   646.715946     chr18           3.36           0.52    78077248   \n",
       "16  1379.822083     chr17          10.75           0.78    81195210   \n",
       "15   939.168423     chr16           6.01           0.64    90354753   \n",
       "14  1124.252524     chr15           7.46           0.66   102531392   \n",
       "13   954.013838     chr14           6.27           0.66   107349540   \n",
       "12   808.778702     chr13           4.74           0.59   115169878   \n",
       "11  1449.890670     chr12          15.13           1.04   133851895   \n",
       "10  1343.610014     chr11          13.23           0.98   135006516   \n",
       "9   1578.729871     chr10          14.66           0.93   135534747   \n",
       "8   1453.198847      chr9          11.46           0.79   141213431   \n",
       "7   1657.930728      chr8          16.00           0.96   146364022   \n",
       "6   2054.544780      chr7          22.98           1.12   159138663   \n",
       "5   2085.651759      chr6          24.75           1.19   171115067   \n",
       "4   1774.901947      chr5          20.67           1.16   180915260   \n",
       "3   1565.160427      chr4          16.52           1.06   191154276   \n",
       "2   2064.299018      chr3          30.88           1.50   198022430   \n",
       "1   2588.810459      chr2          43.51           1.68   243199373   \n",
       "0   2589.814577      chr1          49.84           1.92   249250621   \n",
       "\n",
       "    chr_size_small  \n",
       "20       48.129895  \n",
       "21       51.304566  \n",
       "18       59.128983  \n",
       "19       63.025520  \n",
       "17       78.077248  \n",
       "16       81.195210  \n",
       "15       90.354753  \n",
       "14      102.531392  \n",
       "13      107.349540  \n",
       "12      115.169878  \n",
       "11      133.851895  \n",
       "10      135.006516  \n",
       "9       135.534747  \n",
       "8       141.213431  \n",
       "7       146.364022  \n",
       "6       159.138663  \n",
       "5       171.115067  \n",
       "4       180.915260  \n",
       "3       191.154276  \n",
       "2       198.022430  \n",
       "1       243.199373  \n",
       "0       249.250621  "
      ]
     },
     "execution_count": 16,
     "metadata": {},
     "output_type": "execute_result"
    }
   ],
   "source": [
    "merged_pd_results_chrom_sizes"
   ]
  },
  {
   "cell_type": "code",
   "execution_count": null,
   "metadata": {},
   "outputs": [],
   "source": []
  },
  {
   "cell_type": "markdown",
   "metadata": {},
   "source": [
    "## Comparing Time Performance \n",
    "\n",
    "In the subsequent step, we compared the time performance between an ensemble of 100 model runs by both methods.\n"
   ]
  },
  {
   "cell_type": "code",
   "execution_count": 17,
   "metadata": {},
   "outputs": [],
   "source": [
    "def convert_results_ensemble_to_pandas(results_average, method_name):\n",
    "\n",
    "    pd_results_average = pd.DataFrame(results_average, index=[0]).transpose()\n",
    "    pd_results_average = pd_results_average.reset_index()\n",
    "    pd_results_average['index'] = pd.to_numeric(pd_results_average['index'])\n",
    "    pd_results_average = pd_results_average.sort_values('index').set_index('index')\n",
    "    pd_results_average.columns = [method_name]\n",
    "    return pd_results_average"
   ]
  },
  {
   "cell_type": "code",
   "execution_count": 18,
   "metadata": {},
   "outputs": [],
   "source": [
    "paths_3dnome_ensemble_logs = 'logs/3dnome/3dnome_ensemble100_logs/'\n",
    "paths_cudaMMC_ensemble_logs = 'logs/cudaMMC/cudaMMC_ensemble100_logs/'"
   ]
  },
  {
   "cell_type": "code",
   "execution_count": 19,
   "metadata": {},
   "outputs": [],
   "source": [
    "files_time_cpu_ensemble = [os.path.join(paths_3dnome_ensemble_logs, fname) for fname in os.listdir(paths_3dnome_ensemble_logs) if fname.endswith('txt')]\n",
    "files_time_gpu_ensemble = [os.path.join(paths_cudaMMC_ensemble_logs, fname) for fname in os.listdir(paths_cudaMMC_ensemble_logs) if fname.endswith('txt')]\n"
   ]
  },
  {
   "cell_type": "code",
   "execution_count": 20,
   "metadata": {},
   "outputs": [],
   "source": [
    "results_gpu_ensemble, _ = take_times_from_files_calc_average_time(files_time_gpu_ensemble)\n",
    "results_cpu_ensemble, _ = take_times_from_files_calc_average_time(files_time_cpu_ensemble)"
   ]
  },
  {
   "cell_type": "code",
   "execution_count": null,
   "metadata": {},
   "outputs": [],
   "source": []
  },
  {
   "cell_type": "code",
   "execution_count": 21,
   "metadata": {},
   "outputs": [],
   "source": [
    "pd_results_cpu_ensemble = convert_results_ensemble_to_pandas(results_cpu_ensemble,'cpu_times')\n",
    "pd_results_gpu_ensemble = convert_results_ensemble_to_pandas(results_gpu_ensemble,'gpu_times')"
   ]
  },
  {
   "cell_type": "code",
   "execution_count": 22,
   "metadata": {},
   "outputs": [],
   "source": [
    "merged_pd_results_ensemble = pd.merge(pd_results_cpu_ensemble, pd_results_gpu_ensemble, left_on=pd_results_cpu_ensemble.index, right_on=pd_results_gpu_ensemble.index)#.renameset_index('key_0')\n",
    "merged_pd_results_ensemble.columns = ['chr_id', 'cpu_times', 'gpu_times']\n",
    "merged_pd_results_ensemble['chr_names'] = ['chr1', 'chr14', 'chr21']"
   ]
  },
  {
   "cell_type": "code",
   "execution_count": 23,
   "metadata": {},
   "outputs": [],
   "source": [
    "merged_pd_results_ensemble['cpu_times_min'] = (merged_pd_results_ensemble['cpu_times']/60).round(2)\n",
    "merged_pd_results_ensemble['gpu_times_min'] = (merged_pd_results_ensemble['gpu_times']/60).round(2)"
   ]
  },
  {
   "cell_type": "code",
   "execution_count": 24,
   "metadata": {},
   "outputs": [
    {
     "data": {
      "text/html": [
       "<div>\n",
       "<style scoped>\n",
       "    .dataframe tbody tr th:only-of-type {\n",
       "        vertical-align: middle;\n",
       "    }\n",
       "\n",
       "    .dataframe tbody tr th {\n",
       "        vertical-align: top;\n",
       "    }\n",
       "\n",
       "    .dataframe thead th {\n",
       "        text-align: right;\n",
       "    }\n",
       "</style>\n",
       "<table border=\"1\" class=\"dataframe\">\n",
       "  <thead>\n",
       "    <tr style=\"text-align: right;\">\n",
       "      <th></th>\n",
       "      <th>chr_id</th>\n",
       "      <th>cpu_times</th>\n",
       "      <th>gpu_times</th>\n",
       "      <th>chr_names</th>\n",
       "      <th>cpu_times_min</th>\n",
       "      <th>gpu_times_min</th>\n",
       "    </tr>\n",
       "  </thead>\n",
       "  <tbody>\n",
       "    <tr>\n",
       "      <th>0</th>\n",
       "      <td>1</td>\n",
       "      <td>257021.497751</td>\n",
       "      <td>5959.989844</td>\n",
       "      <td>chr1</td>\n",
       "      <td>4283.69</td>\n",
       "      <td>99.33</td>\n",
       "    </tr>\n",
       "    <tr>\n",
       "      <th>1</th>\n",
       "      <td>14</td>\n",
       "      <td>33601.737308</td>\n",
       "      <td>2100.281302</td>\n",
       "      <td>chr14</td>\n",
       "      <td>560.03</td>\n",
       "      <td>35.00</td>\n",
       "    </tr>\n",
       "    <tr>\n",
       "      <th>2</th>\n",
       "      <td>21</td>\n",
       "      <td>5087.671860</td>\n",
       "      <td>612.311220</td>\n",
       "      <td>chr21</td>\n",
       "      <td>84.79</td>\n",
       "      <td>10.21</td>\n",
       "    </tr>\n",
       "  </tbody>\n",
       "</table>\n",
       "</div>"
      ],
      "text/plain": [
       "   chr_id      cpu_times    gpu_times chr_names  cpu_times_min  gpu_times_min\n",
       "0       1  257021.497751  5959.989844      chr1        4283.69          99.33\n",
       "1      14   33601.737308  2100.281302     chr14         560.03          35.00\n",
       "2      21    5087.671860   612.311220     chr21          84.79          10.21"
      ]
     },
     "execution_count": 24,
     "metadata": {},
     "output_type": "execute_result"
    }
   ],
   "source": [
    "merged_pd_results_ensemble"
   ]
  },
  {
   "cell_type": "code",
   "execution_count": 25,
   "metadata": {},
   "outputs": [],
   "source": [
    "merged_pd_results_ensemble_2plot=merged_pd_results_ensemble[['chr_names', 'cpu_times_min', 'gpu_times_min']]"
   ]
  },
  {
   "cell_type": "code",
   "execution_count": 26,
   "metadata": {},
   "outputs": [
    {
     "data": {
      "image/png": "[encoded data removed]",
      "text/plain": [
       "<Figure size 432x288 with 1 Axes>"
      ]
     },
     "metadata": {},
     "output_type": "display_data"
    }
   ],
   "source": [
    "plt.rcParams.update({'font.size': 18})\n",
    "ax =merged_pd_results_ensemble_2plot.plot.bar(x='chr_names', rot=0, grid=True, xlabel=False, title='Old vs. New algorithm performance\\n(lower is better)', color=['tab:blue', 'forestgreen'])\n",
    "ax.set_yscale('log')\n",
    "ax.set_xlabel(\"\")\n",
    "ax.set_ylabel(\"time (min.)\")\n",
    "ax.minorticks_on()\n",
    "ax.grid(True, which='both')\n",
    "plt.legend([\"3D-GNOME\", \"cudaMMC\"], loc=0, frameon=True)\n",
    "plt.figsize = (2.36,1.57)\n",
    "\n",
    "# plt.savefig(\"figures/performance_ensembles_hg19_cpu_vs_gpu\",dpi=300,bbox_inches='tight',pad_inches=0.1)\n",
    "plt.show()"
   ]
  },
  {
   "cell_type": "code",
   "execution_count": null,
   "metadata": {},
   "outputs": [],
   "source": []
  },
  {
   "cell_type": "markdown",
   "metadata": {},
   "source": [
    "## Time Performance Analysis on Large Datasets\n",
    "\n",
    "The subsequent phase of our benchmarking involved computing the average time performance using extensive data derived from the in situ CTCF ChIA-PET experiment mapped onto the `hg38` genome. This evaluation was conducted on chromosomes chr1, chr14, and chr21. Notably, we exclusively employed cudaMMC for this task. While 3D-GNOME is efficient for smaller datasets, it struggled to complete the modeling process for larger datasets within a reasonable timeframe.\n"
   ]
  },
  {
   "cell_type": "code",
   "execution_count": 27,
   "metadata": {},
   "outputs": [],
   "source": [
    "paths_cudaMMC_single_logs = 'logs/cudaMMC/cudaMMC_single_runs_hg38/'\n",
    "files_time_gpu_single_hg38 = [os.path.join(paths_cudaMMC_single_logs, fname) for fname in os.listdir(paths_cudaMMC_single_logs) if fname.endswith('txt')]\n",
    "results_cpu_single_hg38, _ = take_times_from_files_calc_average_time(files_time_gpu_single_hg38)"
   ]
  },
  {
   "cell_type": "code",
   "execution_count": 28,
   "metadata": {},
   "outputs": [
    {
     "data": {
      "text/html": [
       "<div>\n",
       "<style scoped>\n",
       "    .dataframe tbody tr th:only-of-type {\n",
       "        vertical-align: middle;\n",
       "    }\n",
       "\n",
       "    .dataframe tbody tr th {\n",
       "        vertical-align: top;\n",
       "    }\n",
       "\n",
       "    .dataframe thead th {\n",
       "        text-align: right;\n",
       "    }\n",
       "</style>\n",
       "<table border=\"1\" class=\"dataframe\">\n",
       "  <thead>\n",
       "    <tr style=\"text-align: right;\">\n",
       "      <th></th>\n",
       "      <th>gpu_times</th>\n",
       "      <th>gpu_times_min</th>\n",
       "    </tr>\n",
       "    <tr>\n",
       "      <th>index</th>\n",
       "      <th></th>\n",
       "      <th></th>\n",
       "    </tr>\n",
       "  </thead>\n",
       "  <tbody>\n",
       "    <tr>\n",
       "      <th>1</th>\n",
       "      <td>2999.963988</td>\n",
       "      <td>50.00</td>\n",
       "    </tr>\n",
       "    <tr>\n",
       "      <th>14</th>\n",
       "      <td>991.333470</td>\n",
       "      <td>16.52</td>\n",
       "    </tr>\n",
       "    <tr>\n",
       "      <th>21</th>\n",
       "      <td>259.713843</td>\n",
       "      <td>4.33</td>\n",
       "    </tr>\n",
       "  </tbody>\n",
       "</table>\n",
       "</div>"
      ],
      "text/plain": [
       "         gpu_times  gpu_times_min\n",
       "index                            \n",
       "1      2999.963988          50.00\n",
       "14      991.333470          16.52\n",
       "21      259.713843           4.33"
      ]
     },
     "execution_count": 28,
     "metadata": {},
     "output_type": "execute_result"
    }
   ],
   "source": [
    "pd_results_gpu_single_hg38 = convert_results_ensemble_to_pandas(results_cpu_single_hg38,'gpu_times')\n",
    "pd_results_gpu_single_hg38['gpu_times_min'] = (pd_results_gpu_single_hg38['gpu_times']/60).round(2)\n",
    "pd_results_gpu_single_hg38"
   ]
  },
  {
   "cell_type": "code",
   "execution_count": null,
   "metadata": {},
   "outputs": [],
   "source": []
  },
  {
   "cell_type": "markdown",
   "metadata": {},
   "source": [
    "## Quality Comparison Between cudaMMC and 3D-GNOME \n",
    "\n",
    "We also assessed the quality of modeling produced by cudaMMC in relation to 3D-GNOME. The similarity matrices were computed in both ensembles of models using the embedded procedure provided in both methods.\n",
    "\n",
    "Citing from the official manual:\n",
    "> With the \"-a ensemble\" option, we instruct the software to perform the ensemble analysis. The `-i` option specifies the directory containing the structures, while `-p` provides the ensemble filenames pattern. `{N}` represents the serial number automatically appended in the prior step. The software matches this pattern against the files in the designated directory, using all the matching files for the analysis. This evaluation spans all three primary levels, resulting in similarity matrices saved within the same directory. The matrices are named as `structural_distances_lvlM.heat`, where `M` indicates the level (0 for chromosome, 1 for segment, 2 for subanchor). These matrices can be directly employed for hierarchical clustering or other analytical techniques.\n",
    "\n",
    "For direct execution:\n",
    "\n",
    "$ ./3dnome -a ensemble -i ./chr14_ensemble/ -p loops_chr14_{N}.hcm\n",
    "\n",
    "and \n",
    "\n",
    "$ ./cudaMMC -a ensemble -i ./chr14_ensemble/ -p loops_chr14_{N}.hcm\n",
    "\n",
    "The methodology behind this measure is detailed in the Supplementary Materials of the following publication:\n",
    "\n",
    "**Szałaj, P., Tang, Z., Michalski, P., Pietal, M. J., Luo, O. J., Sadowski, M., ... & Plewczynski, D. (2016).** *An integrated 3-dimensional genome modeling engine for data-driven simulation of spatial genome organization.* _Genome research_, 26(12), 1697-1709.\n"
   ]
  },
  {
   "cell_type": "markdown",
   "metadata": {},
   "source": [
    "We conducted our study utilizing long-read CTCF ChIA-PET data mapped to the hg19 genome. We created ensembles of 100 models for `chr21`. For subsequent analyses, we employed the output files containing similarity matrices.\n"
   ]
  },
  {
   "cell_type": "code",
   "execution_count": 29,
   "metadata": {},
   "outputs": [],
   "source": [
    "chr21_distances_3dnome_path = 'data/hg19/chr21_ensemble_3dnome/structural_distances_lvl2.heat'\n",
    "chr21_distances_cudaMMC_path = 'data/hg19/chr21_ensemble_cudaMMC/structural_distances_lvl2.heat'\n"
   ]
  },
  {
   "cell_type": "code",
   "execution_count": null,
   "metadata": {},
   "outputs": [],
   "source": []
  },
  {
   "cell_type": "code",
   "execution_count": 30,
   "metadata": {},
   "outputs": [],
   "source": [
    "chr21_distances_3dnome = [i.strip().split() for i in open(chr21_distances_3dnome_path)]\n",
    "chr21_distances_cudaMMC = [i.strip().split() for i in open(chr21_distances_cudaMMC_path)]"
   ]
  },
  {
   "cell_type": "code",
   "execution_count": 31,
   "metadata": {},
   "outputs": [],
   "source": [
    "def get_distance_similarity(matrix):\n",
    "    return [\n",
    "        float(matrix[i][j])\n",
    "        for i in range(len(matrix))\n",
    "        for j in range(len(matrix[i]))\n",
    "        if i != j\n",
    "    ]\n",
    "\n",
    "def generate_dataframe(distance_similarity, method_name):\n",
    "    df = pd.DataFrame()\n",
    "    df['similarity_distance'] = distance_similarity\n",
    "    df['method'] = method_name\n",
    "    return df\n",
    "\n",
    "distance_similarity_chr21_3dnome = get_distance_similarity(chr21_distances_3dnome)\n",
    "distance_similarity_chr21_cudaMMC = get_distance_similarity(chr21_distances_cudaMMC)\n",
    "\n",
    "df_distance_3dnome = generate_dataframe(distance_similarity_chr21_3dnome, '3D-GNOME')\n",
    "df_distance_cudaMMC = generate_dataframe(distance_similarity_chr21_cudaMMC, 'cudaMMC')\n",
    "\n",
    "merged_df = pd.concat([df_distance_3dnome, df_distance_cudaMMC])\n"
   ]
  },
  {
   "cell_type": "code",
   "execution_count": null,
   "metadata": {},
   "outputs": [],
   "source": []
  },
  {
   "cell_type": "code",
   "execution_count": 32,
   "metadata": {},
   "outputs": [
    {
     "data": {
      "image/png": "[encoded data removed]",
      "text/plain": [
       "<Figure size 432x288 with 1 Axes>"
      ]
     },
     "metadata": {},
     "output_type": "display_data"
    }
   ],
   "source": [
    "plt.clf()\n",
    "plt.figsize = (2.36,1.57)\n",
    "plt.rcParams.update({'font.size': 18})\n",
    "plt.tight_layout()\n",
    "\n",
    "sns.distplot(df_distance_3dnome[['similarity_distance']], hist=False, rug=False, color='tab:blue')\n",
    "sns.distplot(df_distance_cudaMMC[['similarity_distance']], hist=False, rug=False, color='forestgreen')\n",
    "\n",
    "plt.axvline(x=df_distance_3dnome.similarity_distance.median(),\n",
    "            color='tab:blue',\n",
    "            ls='--', \n",
    "            lw=2.5)\n",
    "plt.axvline(x=df_distance_cudaMMC.similarity_distance.median(),\n",
    "            color='forestgreen',\n",
    "            ls='--', \n",
    "            lw=2.5)\n",
    "\n",
    "plt.title(\"Comparison of 3D Model Similarity Matrices\\n between Old and New Methods\", y=1.07)\n",
    "\n",
    "blue_patch = mpatches.Patch(color='tab:blue', label='3D-GNOME')\n",
    "green_patch = mpatches.Patch(color='forestgreen', label='cudaMMC')\n",
    "plt.legend(handles=[blue_patch, green_patch], loc=0, frameon=True)\n",
    "\n",
    "plt.grid(True, which='both', linestyle='--', linewidth=0.5)\n",
    "#plt.savefig(\"figures/similarity_matrices_hg19_cpu_vs_gpu\",dpi=300,bbox_inches='tight',pad_inches=0.1)\n",
    "plt.show()\n"
   ]
  },
  {
   "cell_type": "markdown",
   "metadata": {},
   "source": [
    "## Median Similarity Distance Analysis\n",
    "\n",
    "This line computes the ratio of the median similarity distance values for models generated by `cudaMMC` and `3D-GNOME`. The result indicates how similar the medians of the two methods are. A ratio very close to 1 (e.g., within 1% difference) would suggest that both methods have nearly identical median similarity distance values for the analyzed data.\n",
    "\n"
   ]
  },
  {
   "cell_type": "code",
   "execution_count": 33,
   "metadata": {},
   "outputs": [
    {
     "data": {
      "text/plain": [
       "1.006128929441759"
      ]
     },
     "execution_count": 33,
     "metadata": {},
     "output_type": "execute_result"
    }
   ],
   "source": [
    "df_distance_cudaMMC.similarity_distance.median()/df_distance_3dnome.similarity_distance.median()"
   ]
  },
  {
   "cell_type": "markdown",
   "metadata": {},
   "source": [
    "## Time Performance Barplot\n",
    "\n",
    "The barplot visualizes the differences in time performance between the `cudaMMC` and `3D-GNOME` methods. By marking the standard deviation on the barplot, we provide a measure of the variability or spread of the time performance data for each method. A smaller standard deviation indicates that the time performances are closely clustered around the mean, whereas a larger standard deviation suggests more variability in the performance times.\n"
   ]
  },
  {
   "cell_type": "code",
   "execution_count": 34,
   "metadata": {},
   "outputs": [],
   "source": [
    "def upload_data(files_time):\n",
    "    results = {}\n",
    "    for i in files_time:\n",
    "        with open(i, 'r') as f:\n",
    "            t=float(f.readline())/60\n",
    "            chrom_name = 'chr'+i.split('/')[-1].split('_')[0]\n",
    "            if chrom_name in results.keys():\n",
    "                results[chrom_name].append(t)\n",
    "            else:\n",
    "                results[chrom_name]=[t]   \n",
    "    return results"
   ]
  },
  {
   "cell_type": "code",
   "execution_count": 35,
   "metadata": {},
   "outputs": [],
   "source": [
    "def transform_to_long(df, method_name):\n",
    "    df = pd.DataFrame(df).melt(var_name=\"Chromosome\", value_name=method_name)\n",
    "    return df\n"
   ]
  },
  {
   "cell_type": "code",
   "execution_count": 36,
   "metadata": {},
   "outputs": [],
   "source": [
    "files_time_cpu = [os.path.join(paths_3dnome_logs, fname) for fname in os.listdir(paths_3dnome_logs) if fname.endswith('txt')]\n",
    "files_time_gpu = [os.path.join(paths_cudaMMC_logs, fname) for fname in os.listdir(paths_cudaMMC_logs) if fname.endswith('txt')]\n",
    "\n",
    "data_cpu = upload_data(files_time_cpu)\n",
    "data_gpu = upload_data(files_time_gpu)"
   ]
  },
  {
   "cell_type": "code",
   "execution_count": 37,
   "metadata": {},
   "outputs": [
    {
     "data": {
      "image/png": "[encoded data removed]",
      "text/plain": [
       "<Figure size 1080x1080 with 22 Axes>"
      ]
     },
     "metadata": {},
     "output_type": "display_data"
    }
   ],
   "source": [
    "data = {\n",
    "    'chromosome': [],\n",
    "    'method': [],\n",
    "    'value': [] \n",
    "}\n",
    "\n",
    "chromosome_keys = list(data_cpu.keys())\n",
    "chromosome_keys.sort(key=lambda x: int(x.replace(\"chr\", \"\")) if x[3:].isdigit() else float('inf'))\n",
    "\n",
    "for chrom in chromosome_keys:\n",
    "    data['chromosome'].extend([chrom] * len(data_cpu[chrom]))\n",
    "    data['method'].extend(['3D-GNOME'] * len(data_cpu[chrom]))\n",
    "    data['value'].extend(np.array(data_cpu[chrom]))\n",
    "\n",
    "    data['chromosome'].extend([chrom] * len(data_gpu[chrom]))\n",
    "    data['method'].extend(['cudaMMC'] * len(data_gpu[chrom]))\n",
    "    data['value'].extend(np.array(data_gpu[chrom]))\n",
    "\n",
    "df = pd.DataFrame(data)\n",
    "palette_dict = {'3D-GNOME': 'tab:blue', 'cudaMMC': 'forestgreen'}\n",
    "\n",
    "plt.figure(figsize=(15, 15))\n",
    "for idx, chrom in enumerate(chromosome_keys, start=1):\n",
    "    plt.subplot(5, 5, idx)\n",
    "    \n",
    "    sns.barplot(data=df[df['chromosome'] == chrom], x='method', y='value', ci=\"sd\", capsize=.2, palette=palette_dict)\n",
    "    \n",
    "    plt.title(chrom.replace(\"Chromosome\", \"chr\"), y=-0.2)\n",
    "    plt.xlabel('')\n",
    "    plt.ylabel('Time (minutes)')\n",
    "    plt.tight_layout()\n",
    "    plt.gca().set_xticklabels([])\n",
    "\n",
    "# plt.savefig(\"figures/barplots_time_performance\", dpi=300, bbox_inches='tight', pad_inches=0.1)\n",
    "plt.show()\n"
   ]
  },
  {
   "cell_type": "code",
   "execution_count": null,
   "metadata": {},
   "outputs": [],
   "source": []
  }
 ],
 "metadata": {
  "kernelspec": {
   "display_name": "Python 3",
   "language": "python",
   "name": "python3"
  },
  "language_info": {
   "codemirror_mode": {
    "name": "ipython",
    "version": 3
   },
   "file_extension": ".py",
   "mimetype": "text/x-python",
   "name": "python",
   "nbconvert_exporter": "python",
   "pygments_lexer": "ipython3",
   "version": "3.6.5"
  }
 },
 "nbformat": 4,
 "nbformat_minor": 2
}
